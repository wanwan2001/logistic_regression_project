{
 "cells": [
  {
   "cell_type": "markdown",
   "metadata": {},
   "source": [
    "# 如何创建MyLogisticRegression"
   ]
  },
  {
   "cell_type": "markdown",
   "metadata": {},
   "source": [
    "#### def __init__% 构造函数\n",
    "创造一个对象或者实例时，这个函数会自动且只会运行一次<br>\n",
    "面向对象编程 learning_rate 是每次迭代的步长，n_iters 是迭代次数\n",
    "\n",
    "* self:是__init__的第一个参数，可以通过self把其它属性安装到这个对象上\n",
    "* self_lr = learning_rate :把learning_rate 安装到self上并贴上lr的标签，之后这个对象就有了lr这个属性\n",
    "* self.weight = None, self.bias = None : 预留权重和误差属性，但是目前还不知道具体数值"
   ]
  },
  {
   "cell_type": "markdown",
   "metadata": {},
   "source": [
    "## 梯度下降算法解释\n",
    "\n",
    "## 1_np.dot()实现矩阵乘法或者向量点积\n",
    "```Python \n",
    "X.shape = (100, 3)\n",
    "self.weight.shape = (3, )\n",
    "\n",
    "linear_model = np.dot(X, self.weights) + self.bias \n",
    "``` \n",
    "具体来说，它的计算过程为：\n",
    "\n",
    "对于每个样本$i$， 计算线性组合：\n",
    "$$ z_i = w_1x_{i1} + w_2x_{i2} + w_3x_{i3} + b"
   ]
  },
  {
   "cell_type": "markdown",
   "metadata": {},
   "source": [
    "# 2. 梯度下降的数学原理\n",
    "\n",
    "## 2.1 损失函数\n",
    "\n",
    "逻辑回归使用交叉熵损失函数：\n",
    "$$\n",
    "[\n",
    "J(w,b) = -\\frac{1}{n}\\sum_{i=1}^{n}[y_i \\log(\\hat{y}_i) + (1 - y_i)\\log(1 - \\hat{y}_i)]\n",
    "]\n",
    "$$\n",
    "其中：\n",
    "\n",
    "*   $(\\hat{y}_i = \\sigma(w^T x_i + b))$ 是预测概率\n",
    "*   $(\\sigma) 是sigmoid函数: (\\sigma(z) = \\frac{1}{1+e^{-z}})$\n",
    "\n",
    "## 2.2 梯度推导结果\n",
    "\n",
    "通过微积分推导得到梯度公式：\n",
    "\n",
    "权重梯度：\n",
    "$\n",
    "[\n",
    "\\frac{\\partial J}{\\partial w} = \\frac{1}{n}X^T(\\hat{y} - y)\n",
    "]\n",
    "$\n",
    "\n",
    "偏置梯度：\n",
    "$\n",
    "[\n",
    "\\frac{\\partial J}{\\partial b} = \\frac{1}{n}\\sum_{i=1}^{n}(\\hat{y}_i - y_i)\n",
    "]$"
   ]
  },
  {
   "cell_type": "markdown",
   "metadata": {},
   "source": [
    "# 3.1梯度计算 \n",
    "```python \n",
    "# compute weight & bias\n",
    "dw = (1/n_samples) * np.dot(X.T, (y_predict - y))\n",
    "db = (1/n_samples) * np.sum(y_predict - y)"
   ]
  },
  {
   "cell_type": "markdown",
   "metadata": {},
   "source": []
  }
 ],
 "metadata": {
  "language_info": {
   "name": "python"
  }
 },
 "nbformat": 4,
 "nbformat_minor": 2
}

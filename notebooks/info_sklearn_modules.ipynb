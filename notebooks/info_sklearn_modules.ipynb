{
 "cells": [
  {
   "cell_type": "markdown",
   "metadata": {},
   "source": [
    "# 一些sklearn模块的用法与功能\n",
    "\n",
    "## 模块导入\n",
    "``` Python\n",
    "from sklearn.model_selection import train_test_split #数据集划分\n",
    "from sklearn.preprocessing import StandardScaler # 特征缩放\n",
    "from sklearn.linear_model import LogisticRegression # logistic regression \n",
    "from sklearn.metrics import accuracy_score, confusion_matrix, classification_report # 评估指标"
   ]
  },
  {
   "cell_type": "markdown",
   "metadata": {},
   "source": [
    "#### train_test_split \n",
    "``` python \n",
    "from sklearn.model_selection import train_test_split\n",
    "# 基本用法\n",
    "X_train, X_test, y_train, y_test = train_test_split(\n",
    "    X, y, \n",
    "    test_size=0.2,      # 20%作为测试集\n",
    "    random_state=42,    # 固定随机种子\n",
    "    stratify=y          # 保持各类别比例\n",
    ")\n"
   ]
  },
  {
   "cell_type": "markdown",
   "metadata": {},
   "source": [
    "#### StandradScalar特征缩放\n",
    "原理是中心化,标准化公式为:$$\\frac{x - \\mu}{\\sigma}$$\n",
    "其中$\\mu$是均值$\\sigma$是标准差,下面给出一个实现\n"
   ]
  },
  {
   "cell_type": "code",
   "execution_count": 2,
   "metadata": {},
   "outputs": [
    {
     "name": "stdout",
     "output_type": "stream",
     "text": [
      "raw_data\n",
      "ages income\n",
      "25  30000\n",
      "30  45000\n",
      "35  60000\n",
      "40  75000\n",
      "45  90000\n",
      "50 105000\n",
      "55 120000\n",
      "60 135000\n"
     ]
    }
   ],
   "source": [
    "import numpy as np \n",
    "from sklearn.model_selection import train_test_split\n",
    "from sklearn.preprocessing import StandardScaler\n",
    "\n",
    "# 假设我们有两个特征：年龄和收入\n",
    "data = np.array([\n",
    "    [25, 30000],   # 25岁，年收入3万\n",
    "    [30, 45000],   # 30岁，年收入4.5万\n",
    "    [35, 60000],   # 35岁，年收入6万\n",
    "    [40, 75000],   # 40岁，年收入7.5万\n",
    "    [45, 90000],   # 45岁，年收入9万\n",
    "    [50, 105000],  # 50岁，年收入10.5万\n",
    "    [55, 120000],  # 55岁，年收入12万\n",
    "    [60, 135000]   # 60岁，年收入13.5万\n",
    "])\n",
    "\n",
    "X = data\n",
    "y = np.array([0, 0, 0, 1, 1, 1, 1, 1])  #标签\n",
    "\n",
    "print('raw_data')\n",
    "print('ages income')\n",
    "for i, row in enumerate(X):\n",
    "    print(f\"{row[0]:2.0f} {row[1]:6.0f}\")"
   ]
  },
  {
   "cell_type": "markdown",
   "metadata": {},
   "source": [
    "#### 01-数据划分"
   ]
  },
  {
   "cell_type": "code",
   "execution_count": null,
   "metadata": {},
   "outputs": [
    {
     "name": "stdout",
     "output_type": "stream",
     "text": [
      "TrainSet\n",
      "age income\n",
      "25  30000\n",
      "60 135000\n",
      "35  60000\n",
      "45  90000\n",
      "40  75000\n",
      "55 120000\n",
      "TestSet\n",
      "age income\n",
      "30  45000\n",
      "50 105000\n"
     ]
    }
   ],
   "source": [
    "# 01-Data-dividing\n",
    "X_train, X_test, y_train, y_test = train_test_split(X, y, test_size=0.25, random_state=42)\n",
    "\n",
    "print('TrainSet')\n",
    "print('age income')\n",
    "for row in X_train:\n",
    "    print(f\"{row[0]:2.0f} {row[1]:6.0f}\")\n",
    "    \n",
    "print('TestSet')\n",
    "print('age income')\n",
    "for row in X_test:\n",
    "    print(f\"{row[0]:2.0f} {row[1]:6.0f}\")\n",
    "    "
   ]
  },
  {
   "cell_type": "markdown",
   "metadata": {},
   "source": [
    "#### 02-Standard 03-fit&transform"
   ]
  },
  {
   "cell_type": "code",
   "execution_count": null,
   "metadata": {},
   "outputs": [],
   "source": [
    "# 02-Data-Standard\n",
    "scaler = StandardScaler()\n",
    "\n",
    "# 03-fit&transform\n",
    "print('---Standard_Process---')\n",
    "print('TrainSet_info')\n",
    "print(f\"age_maen: {X_train[:,0].mean():.1f}, std:{X_train[:,0].std():.1f}\") #compute mean std\n",
    "print(f\"income_maen: {X_train[:,0].mean():.1f}, std:{X_train[:,0].std():.1f}\")\n",
    "\n",
    "X_train_scaled = scaler.fit_transform(X_train) #进行标准化\n",
    "\n",
    "print(f\"\\n标准化器得到的参数\")\n",
    "print(f\"mean_:{scaler.mean_}\")\n",
    "print(f\"std:{scaler.scale_}\")\n",
    "\n",
    "print(f\"\\n After standard_TrainSet:\")\n",
    "print(f\"age_sd income_sd\")\n",
    "for row in X_train_scaled:\n",
    "    print(f\"{row[0]:8.2f} {row[1]:8.2f}\")\n",
    "    \n",
    "X_test_scaled = scaler.transform(X_test)\n",
    "\n",
    "print(f\"\\n After stadard_TestSet:\")\n",
    "print(f\"age_sd income_sd\")\n",
    "for row in X_test_scaled:\n",
    "    print(f\"{row[0]:8.2f} {row[1]:8.2f}\")\n",
    "    "
   ]
  },
  {
   "cell_type": "markdown",
   "metadata": {},
   "source": [
    "#### 04-verifying-perfermance"
   ]
  },
  {
   "cell_type": "code",
   "execution_count": null,
   "metadata": {},
   "outputs": [],
   "source": [
    "# 04-verifying-perfermance\n",
    "print(\"---Standard_perfermance---\")\n",
    "print(\"TrainSet_statistical_info\")\n",
    "print(f\"age mean{X_train_scaled[:,0].mean():.6f} std{X_train_scaled[:,0].std():.6f}\")\n",
    "print(f\"income mean{X_train_scaled[:,1].mean():.6f} std{X_train_scaled[:,1].std():.6f}\")\n",
    "\n",
    "print(\"\\nTestSet_satistical_info\")\n",
    "print(f\"age mean{X_test_scaled[:,0].mean():.2f} std{X_train_scaled[:,0].std():.2f}\")\n",
    "print(f\"income mean{X_test_scaled[:,1].mean():.2f} std{X_train_scaled[:,1].std():.2f}\")"
   ]
  },
  {
   "cell_type": "markdown",
   "metadata": {},
   "source": [
    "#### Logistic_Regression\n",
    "**作用**：线性分类算法，通过 sigmoid 函数将线性组合映射概率值。  \n",
    "**数学原理**：\n",
    "$$\n",
    "P(y = 1|x) = \\frac{1}{1 + \\exp\\left(-(\\beta_0 + \\beta_1 x_1 + \\cdots + \\beta_n x_n)\\right)}\n",
    "$$"
   ]
  },
  {
   "cell_type": "code",
   "execution_count": 16,
   "metadata": {},
   "outputs": [
    {
     "name": "stdout",
     "output_type": "stream",
     "text": [
      "[0 1]\n"
     ]
    }
   ],
   "source": [
    "# 创建模型\n",
    "from sklearn.linear_model import LogisticRegression \n",
    "model = LogisticRegression(random_state = 42,max_iter = 1000)\n",
    "\n",
    "model.fit(X_train_scaled,y_train)\n",
    "y_pred = model.predict(X_test_scaled)\n",
    "y_prob = model.predict(X_test_scaled)\n",
    "\n",
    "print(y_pred)"
   ]
  },
  {
   "cell_type": "markdown",
   "metadata": {},
   "source": [
    "#### 评估模块,判断准确率\n",
    "```Python\n",
    "from sklearn.metrics import accuracy_score, confusion_matrix, classification_report\n",
    "\n",
    "# 4.1 准确率\n",
    "accuracy = accuracy_score(y_test, y_pred)\n",
    "print(f\"准确率\"{accuracy:.3f})\n",
    "\n",
    "# 4.2 confusion_matrix \n",
    "cm = confusion_matrix(y_test, y_pred)\n",
    "print(\"混淆矩阵\")\n",
    "print(cm)\n",
    "\n",
    "# 分类报告\n",
    "report = classification_report(y_test, y_pred)\n",
    "print(report)\n",
    "```"
   ]
  },
  {
   "cell_type": "markdown",
   "metadata": {},
   "source": []
  }
 ],
 "metadata": {
  "kernelspec": {
   "display_name": "logistic_enve",
   "language": "python",
   "name": "python3"
  },
  "language_info": {
   "codemirror_mode": {
    "name": "ipython",
    "version": 3
   },
   "file_extension": ".py",
   "mimetype": "text/x-python",
   "name": "python",
   "nbconvert_exporter": "python",
   "pygments_lexer": "ipython3",
   "version": "3.12.11"
  }
 },
 "nbformat": 4,
 "nbformat_minor": 2
}

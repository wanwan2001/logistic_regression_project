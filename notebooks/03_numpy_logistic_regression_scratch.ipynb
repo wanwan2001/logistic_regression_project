{
 "cells": [
  {
   "cell_type": "markdown",
   "metadata": {},
   "source": [
    "#### 此章节我们使用numpy进行模型训练，实现一个原生的Logistic_Regression"
   ]
  },
  {
   "cell_type": "code",
   "execution_count": 4,
   "metadata": {},
   "outputs": [
    {
     "name": "stdout",
     "output_type": "stream",
     "text": [
      "Prepare For Next Step \n"
     ]
    }
   ],
   "source": [
    "import numpy as np\n",
    "import pandas as pd \n",
    "from sklearn.model_selection import train_test_split\n",
    "from sklearn.preprocessing import StandardScaler\n",
    "from sklearn.metrics import accuracy_score, classification_report\n",
    "\n",
    "file_path = '../data/raw/breast_cancer_data.csv'\n",
    "df = pd.read_csv(file_path)\n",
    "\n",
    "X = df.drop('target', axis=1)\n",
    "y = df['target']\n",
    "\n",
    "X_train, X_test, y_train, y_test = train_test_split(X, y, test_size=0.3, random_state=42)\n",
    "\n",
    "# feature \n",
    "scaler = StandardScaler() # 创建一个特征器\n",
    "X_train_scaled = scaler.fit_transform(X_train)\n",
    "X_test_scaled = scaler.transform(X_test)\\\n",
    "\n",
    "# to compute ez to transfrom pd.series -> numpy array\n",
    "y_train = y_train.to_numpy()\n",
    "y_test = y_test.to_numpy()\n",
    "\n",
    "print(\"Prepare For Next Step \") "
   ]
  },
  {
   "cell_type": "markdown",
   "metadata": {},
   "source": [
    "#### 01定义logistic 需要的函数\n",
    "Sigmoid(将数值映射到01区间，输出概率)：<br>\n",
    "公式为：$$ g(z) = \\frac{1}{1 + e^{-z}}$$"
   ]
  },
  {
   "cell_type": "code",
   "execution_count": 5,
   "metadata": {},
   "outputs": [
    {
     "data": {
      "image/png": "[encoded data removed]",
      "text/plain": [
       "<Figure size 640x480 with 1 Axes>"
      ]
     },
     "metadata": {},
     "output_type": "display_data"
    }
   ],
   "source": [
    "def sigmoid(z):\n",
    "    return 1/(1 + np.exp(-z))\n",
    "# 测试一下函数\n",
    "import matplotlib.pyplot as plt \n",
    "z_tmp = np.arange(-10, 10, 0.1)\n",
    "y_tmp = sigmoid(z_tmp)\n",
    "plt.plot(z_tmp, y_tmp)\n",
    "plt.title('Sigmoid Funcion')\n",
    "plt.grid(True)\n",
    "plt.show()"
   ]
  },
  {
   "cell_type": "markdown",
   "metadata": {},
   "source": [
    "#### 02尝试创建一个类似sklearn的库，“面向对象”，将所有逻辑封装到这个类中"
   ]
  },
  {
   "cell_type": "code",
   "execution_count": 6,
   "metadata": {},
   "outputs": [],
   "source": [
    "class MyLogisticRegression:\n",
    "    # 使用numpy从零实现一个逻辑回归\n",
    "    \n",
    "    def __init__(self, learning_rate=0.01, n_iters=1000):\n",
    "        self.lr = learning_rate\n",
    "        self.n_iters = n_iters\n",
    "        self.weights = None \n",
    "        self.bias = None \n",
    "        \n",
    "    def fit(self, X, y):\n",
    "        # 01_初始化模型参数\n",
    "        n_samples, n_features = X.shape \n",
    "        self.weights = np.zeros(n_features)\n",
    "        self.bias = 0\n",
    "        \n",
    "        # 02_Gradient_Descend\n",
    "        for _ in range(self.n_iters):\n",
    "            \n",
    "            # 线性模型 z = w*x + b\n",
    "            linear_model = np.dot(X, self.weights) + self.bias\n",
    "            # apply Sigmoid Function\n",
    "            y_predicted = sigmoid(linear_model)\n",
    "            \n",
    "            # compute Gradient \n",
    "            dw = (1/n_samples) * np.dot(X.T, (y_predicted - y))\n",
    "            db = (1/n_samples) * np.sum(y_predicted - y)\n",
    "            \n",
    "            # update cof \n",
    "            self.weights -= self.lr * dw \n",
    "            self.bias -= self.lr * db\n",
    "            \n",
    "    def predict(self, X):\n",
    "        linear_model = np.dot(X, self.weights) + self.bias\n",
    "        y_predicted = sigmoid(linear_model)\n",
    "        # use 0.5 as bound to predict\n",
    "        y_predicted_cls = [1 if i > 0.5 else 0 for i in y_predicted]\n",
    "        return np.array(y_predicted_cls)    "
   ]
  },
  {
   "cell_type": "markdown",
   "metadata": {},
   "source": [
    "### 03训练和评估"
   ]
  },
  {
   "cell_type": "code",
   "execution_count": 8,
   "metadata": {},
   "outputs": [
    {
     "name": "stdout",
     "output_type": "stream",
     "text": [
      "Accuracy0.9825\n",
      "              precision    recall  f1-score   support\n",
      "\n",
      "           0       0.97      0.98      0.98        63\n",
      "           1       0.99      0.98      0.99       108\n",
      "\n",
      "    accuracy                           0.98       171\n",
      "   macro avg       0.98      0.98      0.98       171\n",
      "weighted avg       0.98      0.98      0.98       171\n",
      "\n"
     ]
    }
   ],
   "source": [
    "# (a)初始化\n",
    "my_model = MyLogisticRegression(learning_rate = 0.02, n_iters = 20000)\n",
    "\n",
    "# (b)training model \n",
    "my_model.fit(X_train_scaled, y_train)\n",
    "\n",
    "# (c)predict \n",
    "y_pred_my_model = my_model.predict(X_test_scaled)\n",
    "\n",
    "# (d)verify\n",
    "accuracy = accuracy_score(y_test, y_pred_my_model)\n",
    "print(f\"Accuracy{accuracy:.4f}\")\n",
    "print(classification_report(y_test, y_pred_my_model))\n",
    "\n"
   ]
  },
  {
   "cell_type": "code",
   "execution_count": null,
   "metadata": {},
   "outputs": [],
   "source": []
  }
 ],
 "metadata": {
  "kernelspec": {
   "display_name": "logistic_enve",
   "language": "python",
   "name": "python3"
  },
  "language_info": {
   "codemirror_mode": {
    "name": "ipython",
    "version": 3
   },
   "file_extension": ".py",
   "mimetype": "text/x-python",
   "name": "python",
   "nbconvert_exporter": "python",
   "pygments_lexer": "ipython3",
   "version": "3.12.11"
  }
 },
 "nbformat": 4,
 "nbformat_minor": 2
}
